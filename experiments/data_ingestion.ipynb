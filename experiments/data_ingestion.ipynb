{
 "cells": [
  {
   "cell_type": "code",
   "execution_count": 6,
   "metadata": {},
   "outputs": [],
   "source": [
    "import os\n",
    "import zipfile\n",
    "from dataclasses import dataclass\n",
    "from pathlib import Path\n",
    "from urllib import request"
   ]
  },
  {
   "cell_type": "code",
   "execution_count": 7,
   "metadata": {},
   "outputs": [],
   "source": [
    "# !ls"
   ]
  },
  {
   "cell_type": "code",
   "execution_count": 8,
   "metadata": {},
   "outputs": [],
   "source": [
    "@dataclass(frozen=True)\n",
    "class DataIngestionConfig:\n",
    "    root_dir: Path\n",
    "    source_URL: str\n",
    "    local_data_path: Path\n",
    "    unzip_dir: Path\n",
    "\n",
    "@dataclass(frozen=True)\n",
    "class DataValidationConfig:\n",
    "    root_dir: Path\n",
    "    STATUS_FILE: Path\n",
    "    ALL_REQUIRED_FILES: list\n",
    "\n",
    "@dataclass(frozen=True)\n",
    "class DataTransformationConfig:\n",
    "    root_dir: Path\n",
    "    data_path: Path\n",
    "    tokenizer_name: str\n",
    "\n",
    "@dataclass(frozen=True)\n",
    "class ModelTrainerConfig:\n",
    "    root_dir: Path\n",
    "    data_path: Path\n",
    "    model_ckpt: str\n",
    "\n",
    "@dataclass(frozen=True)\n",
    "class ModelEvaluationConfig:\n",
    "    root_dir: Path\n",
    "    data_path: Path\n",
    "    model_path: Path\n",
    "    tokenizer_path: Path\n",
    "    metric_file_name: Path"
   ]
  },
  {
   "cell_type": "code",
   "execution_count": 9,
   "metadata": {},
   "outputs": [],
   "source": [
    "from src.constants import CONFIG_FILE_PATH, PARAMS_FILE_PATH\n",
    "from src.utils import read_yaml, get_size\n",
    "from src.logger import logging\n"
   ]
  },
  {
   "cell_type": "code",
   "execution_count": 10,
   "metadata": {},
   "outputs": [
    {
     "ename": "FileNotFoundError",
     "evalue": "[Errno 2] No such file or directory: 'config\\\\config.yaml'",
     "output_type": "error",
     "traceback": [
      "\u001b[1;31m---------------------------------------------------------------------------\u001b[0m",
      "\u001b[1;31mFileNotFoundError\u001b[0m                         Traceback (most recent call last)",
      "Cell \u001b[1;32mIn[10], line 1\u001b[0m\n\u001b[1;32m----> 1\u001b[0m read_yaml(CONFIG_FILE_PATH)\n",
      "File \u001b[1;32mc:\\Users\\sabinmc\\Desktop\\New program Practrice\\Python\\ml and dl\\Text Summerization\\venv\\lib\\site-packages\\src\\utils.py:26\u001b[0m, in \u001b[0;36mread_yaml\u001b[1;34m(path)\u001b[0m\n\u001b[0;32m     24\u001b[0m     \u001b[39mraise\u001b[39;00m \u001b[39mValueError\u001b[39;00m(\u001b[39m\"\u001b[39m\u001b[39mYAML file is empty\u001b[39m\u001b[39m\"\u001b[39m)\n\u001b[0;32m     25\u001b[0m \u001b[39mexcept\u001b[39;00m \u001b[39mException\u001b[39;00m \u001b[39mas\u001b[39;00m err:\n\u001b[1;32m---> 26\u001b[0m     \u001b[39mraise\u001b[39;00m err\n",
      "File \u001b[1;32mc:\\Users\\sabinmc\\Desktop\\New program Practrice\\Python\\ml and dl\\Text Summerization\\venv\\lib\\site-packages\\src\\utils.py:19\u001b[0m, in \u001b[0;36mread_yaml\u001b[1;34m(path)\u001b[0m\n\u001b[0;32m     10\u001b[0m \u001b[39m\u001b[39m\u001b[39m\"\"\"Read `yaml` file and return a ConfigBox object.\u001b[39;00m\n\u001b[0;32m     11\u001b[0m \n\u001b[0;32m     12\u001b[0m \u001b[39mArgs:\u001b[39;00m\n\u001b[1;32m   (...)\u001b[0m\n\u001b[0;32m     16\u001b[0m \u001b[39m    ConfigBox: ConfigBox object representing the content of the YAML file.\u001b[39;00m\n\u001b[0;32m     17\u001b[0m \u001b[39m\"\"\"\u001b[39;00m\n\u001b[0;32m     18\u001b[0m \u001b[39mtry\u001b[39;00m:\n\u001b[1;32m---> 19\u001b[0m     \u001b[39mwith\u001b[39;00m \u001b[39mopen\u001b[39;49m(path) \u001b[39mas\u001b[39;00m yaml_fp:\n\u001b[0;32m     20\u001b[0m         content \u001b[39m=\u001b[39m yaml\u001b[39m.\u001b[39msafe_load(yaml_fp)\n\u001b[0;32m     21\u001b[0m         logging\u001b[39m.\u001b[39minfo(\u001b[39mf\u001b[39m\u001b[39m\"\u001b[39m\u001b[39mYaml Config file successfully loaded from path: \u001b[39m\u001b[39m{\u001b[39;00mpath\u001b[39m}\u001b[39;00m\u001b[39m\"\u001b[39m)\n",
      "\u001b[1;31mFileNotFoundError\u001b[0m: [Errno 2] No such file or directory: 'config\\\\config.yaml'"
     ]
    }
   ],
   "source": [
    "read_yaml(CONFIG_FILE_PATH)"
   ]
  },
  {
   "cell_type": "code",
   "execution_count": null,
   "metadata": {},
   "outputs": [],
   "source": [
    "class ConfigurationManager:\n",
    "    def __init__(self, config_file_path=CONFIG_FILE_PATH,\n",
    "    param_file_path=PARAMS_FILE_PATH) -> None:\n",
    "        self.config = read_yaml(config_file_path)\n",
    "        self.params = read_yaml(param_file_path)\n",
    "\n",
    "        os.makedirs(self.config.artifacts_root, exist_ok=True)\n",
    "    \n",
    "    def get_data_ingestion_config(self):\n",
    "        config = self.config.data_ingestion\n",
    "        os.makedirs(config.root_dir, exist_ok=True)\n",
    "\n",
    "        data_ingestion_config = DataIngestionConfig(\n",
    "            root_dir=self.config.root_dir,\n",
    "            source_URL=self.config.source_URL,\n",
    "            local_data_path=self.config.local_data_path,\n",
    "            unzip_dir=self.config.unzip_dir \n",
    "        )\n",
    "        return data_ingestion_config\n",
    "    \n",
    "    def get_data_validation_config(self):\n",
    "        config = self.config.data_validation\n",
    "        os.makedirs(config.root_dir, exist_ok=True)\n",
    "\n",
    "        data_validation_config = DataValidationConfig(\n",
    "            root_dir=self.config.root_dir,\n",
    "            STATUS_FILE=self.config.STATUS_FILE,\n",
    "            ALL_REQUIRED_FILES=self.config.ALL_REQUIRED_FILES \n",
    "        )\n",
    "        return data_validation_config\n",
    "    \n",
    "    def get_data_transformation_config(self):\n",
    "        config = self.config.data_transformation\n",
    "        os.makedirs(config.root_dir, exist_ok=True)\n",
    "\n",
    "        data_transformation_config = DataTransformationConfig(\n",
    "            root_dir=self.config.root_dir,\n",
    "            data_path=self.config.data_path,\n",
    "            tokenizer_name=self.config.tokenizer_name\n",
    "        )\n",
    "        return data_transformation_config\n",
    "    \n",
    "    def get_model_trainer_config(self):\n",
    "        config = self.config.model_trainer\n",
    "        os.makedirs(config.root_dir, exist_ok=True)\n",
    "\n",
    "        model_trainer_config = ModelTrainerConfig(\n",
    "            root_dir=self.config.root_dir,\n",
    "            data_path=self.config.data_path,\n",
    "            model_ckpt=self.config.model_ckpt\n",
    "        )\n",
    "        return model_trainer_config\n",
    "    \n",
    "    def get_model_evaluation_config(self):\n",
    "        config = self.config.model_evaluation\n",
    "        os.makedirs(config.root_dir, exist_ok=True)\n",
    "\n",
    "        model_evaluation_config = ModelEvaluationConfig(\n",
    "            root_dir=self.config.root_dir,\n",
    "            data_path=self.config.data_path,\n",
    "            model_ckpt=self.config.model_ckpt\n",
    "        )\n",
    "        return model_evaluation_config"
   ]
  },
  {
   "cell_type": "code",
   "execution_count": null,
   "metadata": {},
   "outputs": [],
   "source": [
    "class DataIngestion:\n",
    "    def __init__(self, config: DataIngestionConfig):\n",
    "        self.config = config\n",
    "\n",
    "    def download_dataset(self):\n",
    "        if not os.path.exists(self.config.local_data_path):\n",
    "            file, header = request.urlretrieve(url=self.config.source_URL,\n",
    "                                               filename=self.config.local_data_path)\n",
    "            logging.info(f\"{file} successfully downloaded! Info: \\n{header}\")\n",
    "        else:\n",
    "            logging.info(f\"File already exists of size: {get_size(Path(self.config.local_data_path))}\")\n",
    "\n",
    "def extract_zip(self, unzip_path=None):\n",
    "    \"\"\"Extract zip file to specified path\n",
    "\n",
    "    Args:\n",
    "        unzip_path: str, optional\n",
    "            The path to extract the zip file to. If not provided, it defaults to `self.config.unzip_dir`.\n",
    "    \"\"\"\n",
    "    if unzip_path is None:\n",
    "        unzip_path = self.config.unzip_dir\n",
    "\n",
    "    os.makedirs(unzip_path, exist_ok=True)\n",
    "    with zipfile.ZipFile(self.config.local_data_path, 'r') as zip_ref:\n",
    "        zip_ref.extractall(unzip_path)\n"
   ]
  },
  {
   "cell_type": "code",
   "execution_count": null,
   "metadata": {},
   "outputs": [],
   "source": [
    "try:\n",
    "    config = ConfigurationManager()\n",
    "    data_ingestion_config = config.get_data_ingestion_config()\n",
    "    data_ingestion = DataIngestion(config=data_ingestion_config)\n",
    "    data_ingestion.download_file()\n",
    "    data_ingestion.extract_zip_file()\n",
    "except Exception as e:\n",
    "    raise e"
   ]
  }
 ],
 "metadata": {
  "kernelspec": {
   "display_name": "venv",
   "language": "python",
   "name": "python3"
  },
  "language_info": {
   "codemirror_mode": {
    "name": "ipython",
    "version": 3
   },
   "file_extension": ".py",
   "mimetype": "text/x-python",
   "name": "python",
   "nbconvert_exporter": "python",
   "pygments_lexer": "ipython3",
   "version": "3.9.10"
  },
  "orig_nbformat": 4
 },
 "nbformat": 4,
 "nbformat_minor": 2
}
